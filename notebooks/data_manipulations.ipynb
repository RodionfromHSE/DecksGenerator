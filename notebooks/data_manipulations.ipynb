{
 "cells": [
  {
   "cell_type": "code",
   "execution_count": 13,
   "metadata": {},
   "outputs": [],
   "source": [
    "import os\n",
    "data_dir = \"../data/\"\n",
    "path_to_a1_b2 = os.path.join(data_dir, \"a1_b2_words.csv\")\n",
    "remove_cols_a1_b2 = [\"CoreInventory 1\", \"CoreInventory 2\", \"Threshold\"]\n",
    "path_to_c1_c2 = os.path.join(data_dir, \"c1_c2_words.csv\")\n",
    "remove_cols_c1_c2 = [\"notes\"]"
   ]
  },
  {
   "cell_type": "code",
   "execution_count": 14,
   "metadata": {},
   "outputs": [],
   "source": [
    "import pandas as pd\n",
    "\n",
    "a1_b2 = pd.read_csv(path_to_a1_b2)\n",
    "a1_b2.drop(columns=remove_cols_a1_b2, inplace=True)\n",
    "c1_c2 = pd.read_csv(path_to_c1_c2)\n",
    "c1_c2.drop(columns=remove_cols_c1_c2, inplace=True)"
   ]
  },
  {
   "cell_type": "code",
   "execution_count": 15,
   "metadata": {},
   "outputs": [],
   "source": [
    "# merge the two dataframes\n",
    "all_words = pd.concat([a1_b2, c1_c2], axis=0)"
   ]
  },
  {
   "cell_type": "code",
   "execution_count": 16,
   "metadata": {},
   "outputs": [
    {
     "name": "stdout",
     "output_type": "stream",
     "text": [
      "All words: 9935\n",
      "All words after removing duplicates: 8657\n"
     ]
    },
    {
     "data": {
      "text/html": [
       "<div>\n",
       "<style scoped>\n",
       "    .dataframe tbody tr th:only-of-type {\n",
       "        vertical-align: middle;\n",
       "    }\n",
       "\n",
       "    .dataframe tbody tr th {\n",
       "        vertical-align: top;\n",
       "    }\n",
       "\n",
       "    .dataframe thead th {\n",
       "        text-align: right;\n",
       "    }\n",
       "</style>\n",
       "<table border=\"1\" class=\"dataframe\">\n",
       "  <thead>\n",
       "    <tr style=\"text-align: right;\">\n",
       "      <th></th>\n",
       "      <th>headword</th>\n",
       "      <th>pos</th>\n",
       "      <th>CEFR</th>\n",
       "    </tr>\n",
       "  </thead>\n",
       "  <tbody>\n",
       "    <tr>\n",
       "      <th>0</th>\n",
       "      <td>a</td>\n",
       "      <td>determiner</td>\n",
       "      <td>A1</td>\n",
       "    </tr>\n",
       "    <tr>\n",
       "      <th>1</th>\n",
       "      <td>a.m./A.M./am/AM</td>\n",
       "      <td>adverb</td>\n",
       "      <td>A1</td>\n",
       "    </tr>\n",
       "    <tr>\n",
       "      <th>2</th>\n",
       "      <td>abandon</td>\n",
       "      <td>verb</td>\n",
       "      <td>B1</td>\n",
       "    </tr>\n",
       "  </tbody>\n",
       "</table>\n",
       "</div>"
      ],
      "text/plain": [
       "          headword         pos CEFR\n",
       "0                a  determiner   A1\n",
       "1  a.m./A.M./am/AM      adverb   A1\n",
       "2          abandon        verb   B1"
      ]
     },
     "execution_count": 16,
     "metadata": {},
     "output_type": "execute_result"
    }
   ],
   "source": [
    "print(\"All words:\", len(all_words))\n",
    "all_words.drop_duplicates(inplace=True, subset=\"headword\")\n",
    "print(\"All words after removing duplicates:\", len(all_words))\n",
    "all_words.head(3)"
   ]
  },
  {
   "cell_type": "code",
   "execution_count": 17,
   "metadata": {},
   "outputs": [],
   "source": [
    "all_words_path = os.path.join(data_dir, \"all_words.csv\")\n",
    "all_words.to_csv(all_words_path, index=False)"
   ]
  },
  {
   "cell_type": "code",
   "execution_count": 18,
   "metadata": {},
   "outputs": [
    {
     "data": {
      "text/plain": [
       "array(['A1', 'B1', 'B2', 'A2', 'C1', 'C2'], dtype=object)"
      ]
     },
     "execution_count": 18,
     "metadata": {},
     "output_type": "execute_result"
    }
   ],
   "source": [
    "levels = all_words[\"CEFR\"].unique()\n",
    "levels"
   ]
  },
  {
   "cell_type": "code",
   "execution_count": 19,
   "metadata": {},
   "outputs": [
    {
     "name": "stdout",
     "output_type": "stream",
     "text": [
      "Level: A1, Number of words: 989\n",
      "Level: B1, Number of words: 2163\n",
      "Level: B2, Number of words: 2496\n",
      "Level: A2, Number of words: 1219\n",
      "Level: C1, Number of words: 914\n",
      "Level: C2, Number of words: 876\n"
     ]
    }
   ],
   "source": [
    "# save each level to a separate file\n",
    "for level in levels:\n",
    "    df = all_words[all_words[\"CEFR\"] == level].copy()\n",
    "    print(f\"Level: {level}, Number of words: {len(df)}\")\n",
    "\n",
    "    level_path = os.path.join(data_dir, f\"{level.lower()}_words.csv\")\n",
    "    df.to_csv(level_path, index=False)"
   ]
  }
 ],
 "metadata": {
  "kernelspec": {
   "display_name": "Python 3",
   "language": "python",
   "name": "python3"
  },
  "language_info": {
   "codemirror_mode": {
    "name": "ipython",
    "version": 3
   },
   "file_extension": ".py",
   "mimetype": "text/x-python",
   "name": "python",
   "nbconvert_exporter": "python",
   "pygments_lexer": "ipython3",
   "version": "3.10.11"
  }
 },
 "nbformat": 4,
 "nbformat_minor": 2
}
