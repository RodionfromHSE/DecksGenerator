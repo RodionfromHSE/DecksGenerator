{
 "cells": [
  {
   "cell_type": "code",
   "execution_count": 1,
   "metadata": {},
   "outputs": [],
   "source": [
    "%load_ext autoreload\n",
    "%autoreload 2"
   ]
  },
  {
   "cell_type": "code",
   "execution_count": 26,
   "metadata": {},
   "outputs": [
    {
     "name": "stdout",
     "output_type": "stream",
     "text": [
      "Added '/Users/Rodion.Khvorostov/Desktop/Programming/Python/PythonPetProjects/DecksGenerator' to PYTHONPATH\n"
     ]
    }
   ],
   "source": [
    "# SETUP\n",
    "import os\n",
    "import sys\n",
    "import logging\n",
    "logging.basicConfig(level=logging.INFO)\n",
    "\n",
    "ROOT_DIR = os.path.abspath(os.path.join('.', '..'))\n",
    "sys.path.append(ROOT_DIR)\n",
    "print(f\"Added {ROOT_DIR!r} to PYTHONPATH\")\n",
    "\n",
    "# IMPORTS\n",
    "import typing as tp\n",
    "import click\n",
    "from omegaconf import OmegaConf\n",
    "from tqdm import tqdm\n",
    "\n",
    "from deck_utils.config_helpers import read_config, pprint_config"
   ]
  },
  {
   "cell_type": "code",
   "execution_count": 27,
   "metadata": {},
   "outputs": [
    {
     "name": "stdout",
     "output_type": "stream",
     "text": [
      "{\n",
      "  \"root_dir\": \"/Users/Rodion.Khvorostov/Desktop/Programming/Python/PythonPetProjects/DecksGenerator\",\n",
      "  \"data_dir\": \"/Users/Rodion.Khvorostov/Desktop/Programming/Python/PythonPetProjects/DecksGenerator/data\",\n",
      "  \"deck\": {\n",
      "    \"name\": \"b1_words\",\n",
      "    \"lang\": \"English\",\n",
      "    \"anki_deck\": \"English_b1_words\",\n",
      "    \"words\": \"/Users/Rodion.Khvorostov/Desktop/Programming/Python/PythonPetProjects/DecksGenerator/data/b1_words.csv\",\n",
      "    \"results_raw\": \"/Users/Rodion.Khvorostov/Desktop/Programming/Python/PythonPetProjects/DecksGenerator/data/b1_words_results_raw.json\",\n",
      "    \"results\": \"/Users/Rodion.Khvorostov/Desktop/Programming/Python/PythonPetProjects/DecksGenerator/data/b1_words_results.json\"\n",
      "  },\n",
      "  \"data_de\": {\n",
      "    \"raw_location\": \"/Users/Rodion.Khvorostov/Desktop/Programming/Python/PythonPetProjects/DecksGenerator/data/words/interim/german_a2b1/static\",\n",
      "    \"raw_files_a2\": [\n",
      "      \"/Users/Rodion.Khvorostov/Desktop/Programming/Python/PythonPetProjects/DecksGenerator/data/words/interim/german_a2b1/static/A2nouns\",\n",
      "      \"/Users/Rodion.Khvorostov/Desktop/Programming/Python/PythonPetProjects/DecksGenerator/data/words/interim/german_a2b1/static/A2others\",\n",
      "      \"/Users/Rodion.Khvorostov/Desktop/Programming/Python/PythonPetProjects/DecksGenerator/data/words/interim/german_a2b1/static/A2verbs\"\n",
      "    ],\n",
      "    \"raw_files_b1\": [\n",
      "      \"/Users/Rodion.Khvorostov/Desktop/Programming/Python/PythonPetProjects/DecksGenerator/data/words/interim/german_a2b1/static/B1nouns\",\n",
      "      \"/Users/Rodion.Khvorostov/Desktop/Programming/Python/PythonPetProjects/DecksGenerator/data/words/interim/german_a2b1/static/B1others\",\n",
      "      \"/Users/Rodion.Khvorostov/Desktop/Programming/Python/PythonPetProjects/DecksGenerator/data/words/interim/german_a2b1/static/B1verbs\"\n",
      "    ],\n",
      "    \"words_a2\": \"/Users/Rodion.Khvorostov/Desktop/Programming/Python/PythonPetProjects/DecksGenerator/data/words/german/a2_words.csv\",\n",
      "    \"words_b1\": \"/Users/Rodion.Khvorostov/Desktop/Programming/Python/PythonPetProjects/DecksGenerator/data/words/german/b1_words.csv\"\n",
      "  },\n",
      "  \"secret\": \"/Users/Rodion.Khvorostov/Desktop/Programming/Python/PythonPetProjects/DecksGenerator/conf/secret.json\"\n",
      "}\n"
     ]
    }
   ],
   "source": [
    "cfg: OmegaConf = read_config()\n",
    "pprint_config(cfg)"
   ]
  },
  {
   "cell_type": "code",
   "execution_count": 21,
   "metadata": {},
   "outputs": [
    {
     "data": {
      "text/plain": [
       "'verb'"
      ]
     },
     "execution_count": 21,
     "metadata": {},
     "output_type": "execute_result"
    }
   ],
   "source": [
    "from deck_utils.read import read_json\n",
    "from dataclasses import dataclass\n",
    "\n",
    "@dataclass\n",
    "class RawWord:\n",
    "    word: str\n",
    "    translation: str\n",
    "    pos: str\n",
    "\n",
    "    def __str__(self):\n",
    "        return f\"{self.word} ({self.pos}): {self.translation}\"\n",
    "    \n",
    "def path_to_pos(path: str) -> str:\n",
    "    filename = os.path.basename(path)\n",
    "    # remove prefix\n",
    "    SYMBOLS_TO_REMOVE = len(\"A2\")\n",
    "    pos_raw = filename[SYMBOLS_TO_REMOVE:]\n",
    "    # remove suffix\n",
    "    pos = pos_raw[:-1]\n",
    "    return pos.lower()\n",
    "\n",
    "path_to_pos(\"A2verbs\")"
   ]
  },
  {
   "cell_type": "code",
   "execution_count": 22,
   "metadata": {},
   "outputs": [
    {
     "name": "stdout",
     "output_type": "stream",
     "text": [
      "Words 1214\n",
      "[RawWord(word='das Angebot', translation='offer', pos='noun'), RawWord(word='die Adresse', translation='address', pos='noun'), RawWord(word='der Anfang', translation='Beginning', pos='noun')]\n"
     ]
    }
   ],
   "source": [
    "def extract_raw_words(filenames: list[str]) -> list[RawWord]:\n",
    "    raw_words = []\n",
    "    for filename in filenames:\n",
    "        pos = path_to_pos(filename)\n",
    "        data = read_json(filename)\n",
    "        for word, translation in data.items():\n",
    "            raw_words.append(RawWord(word=word, translation=translation, pos=pos))\n",
    "    return raw_words\n",
    "\n",
    "a2_words = extract_raw_words(cfg.data_ge.raw_files_a2)\n",
    "print(\"Words\", len(a2_words))\n",
    "print(a2_words[:3])"
   ]
  },
  {
   "cell_type": "code",
   "execution_count": 23,
   "metadata": {},
   "outputs": [
    {
     "name": "stdout",
     "output_type": "stream",
     "text": [
      "Words 2632\n",
      "[RawWord(word='die Abbildung', translation='Illustration', pos='noun'), RawWord(word='der Abfall', translation='waste; rubbish; garbage', pos='noun'), RawWord(word='das Abgas', translation='exhaust; waste gas', pos='noun')]\n"
     ]
    }
   ],
   "source": [
    "b1_words = extract_raw_words(cfg.deck_ge.raw_files_b1)\n",
    "print(\"Words\", len(b1_words))\n",
    "print(b1_words[:3])"
   ]
  },
  {
   "cell_type": "code",
   "execution_count": 25,
   "metadata": {},
   "outputs": [
    {
     "data": {
      "text/html": [
       "<div>\n",
       "<style scoped>\n",
       "    .dataframe tbody tr th:only-of-type {\n",
       "        vertical-align: middle;\n",
       "    }\n",
       "\n",
       "    .dataframe tbody tr th {\n",
       "        vertical-align: top;\n",
       "    }\n",
       "\n",
       "    .dataframe thead th {\n",
       "        text-align: right;\n",
       "    }\n",
       "</style>\n",
       "<table border=\"1\" class=\"dataframe\">\n",
       "  <thead>\n",
       "    <tr style=\"text-align: right;\">\n",
       "      <th></th>\n",
       "      <th>word</th>\n",
       "      <th>translation</th>\n",
       "      <th>pos</th>\n",
       "    </tr>\n",
       "  </thead>\n",
       "  <tbody>\n",
       "    <tr>\n",
       "      <th>0</th>\n",
       "      <td>das Angebot</td>\n",
       "      <td>offer</td>\n",
       "      <td>noun</td>\n",
       "    </tr>\n",
       "    <tr>\n",
       "      <th>1</th>\n",
       "      <td>die Adresse</td>\n",
       "      <td>address</td>\n",
       "      <td>noun</td>\n",
       "    </tr>\n",
       "    <tr>\n",
       "      <th>2</th>\n",
       "      <td>der Anfang</td>\n",
       "      <td>Beginning</td>\n",
       "      <td>noun</td>\n",
       "    </tr>\n",
       "    <tr>\n",
       "      <th>3</th>\n",
       "      <td>die Angst</td>\n",
       "      <td>anxiety / fear</td>\n",
       "      <td>noun</td>\n",
       "    </tr>\n",
       "    <tr>\n",
       "      <th>4</th>\n",
       "      <td>die Ahnung</td>\n",
       "      <td>idea</td>\n",
       "      <td>noun</td>\n",
       "    </tr>\n",
       "  </tbody>\n",
       "</table>\n",
       "</div>"
      ],
      "text/plain": [
       "          word     translation   pos\n",
       "0  das Angebot           offer  noun\n",
       "1  die Adresse         address  noun\n",
       "2   der Anfang       Beginning  noun\n",
       "3    die Angst  anxiety / fear  noun\n",
       "4   die Ahnung            idea  noun"
      ]
     },
     "execution_count": 25,
     "metadata": {},
     "output_type": "execute_result"
    }
   ],
   "source": [
    "# convert to pandas\n",
    "import pandas as pd\n",
    "\n",
    "def to_df(raw_words: list[RawWord]) -> pd.DataFrame:\n",
    "    return pd.DataFrame([vars(x) for x in raw_words])\n",
    "\n",
    "a2_df = to_df(a2_words)\n",
    "b1_df = to_df(b1_words)\n",
    "a2_df.head()"
   ]
  },
  {
   "cell_type": "code",
   "execution_count": null,
   "metadata": {},
   "outputs": [],
   "source": [
    "# save to csv\n",
    "a2_df.to_csv(cfg.data_de.words_a2, index=False)\n",
    "b1_df.to_csv(cfg.data_de.words_b1, index=False)"
   ]
  }
 ],
 "metadata": {
  "kernelspec": {
   "display_name": ".venv",
   "language": "python",
   "name": "python3"
  },
  "language_info": {
   "codemirror_mode": {
    "name": "ipython",
    "version": 3
   },
   "file_extension": ".py",
   "mimetype": "text/x-python",
   "name": "python",
   "nbconvert_exporter": "python",
   "pygments_lexer": "ipython3",
   "version": "3.10.11"
  }
 },
 "nbformat": 4,
 "nbformat_minor": 2
}
